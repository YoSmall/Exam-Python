{
 "cells": [
  {
   "cell_type": "markdown",
   "metadata": {},
   "source": [
    "# Devoir Python\n",
    "\n",
    "Vous devez rendre votre devoir sur GitHub.\n",
    "Vous avez le droit a tout vos documents et a internet\n",
    "\n",
    "1. votre depot doit etre privé\n",
    "2. vous devez inviter comme colaborateur votre chargé de TD/TP\n",
    "3. Seul le dernier commit avant la fin de la séance sera corrigé.\n"
   ]
  },
  {
   "cell_type": "markdown",
   "metadata": {},
   "source": [
    "Ex 1: Integrale de Romberg\n",
    "\n",
    "Ecrire une fonction integ_romberg(f, a, b, epsilon=1e-6) permettant de calculer l’intégrale numérique de la fonction f entre les bornes a et b avec une précision epsilon selon la méthode de Romberg (https://fr.wikipedia.org/wiki/M%C3%A9thode_de_Romberg).\n",
    "\n",
    "Il s’agit d’une méthode qui permet d’améliorer les méthodes usuelles de calcul numérique des intégrales, comme la méthode des Trapèzes.\n",
    "On montre qu’en combinant judicieusement les valeurs obtenues par la méthode des Trapèzes pour différentes subdivisons de l’intervalle d’intégration, on augmente l’ordre de convergence (sa vitesse de convergence). \n"
   ]
  },
  {
   "cell_type": "code",
   "execution_count": 6,
   "metadata": {},
   "outputs": [
    {
     "name": "stdout",
     "output_type": "stream",
     "text": [
      "Romberg integration of <function vectorize1.<locals>.vfunc at 0x0000019E651A9400> from [0, 1]\n",
      "\n",
      " Steps  StepSize   Results\n",
      "     1  1.000000  0.500000 \n",
      "     2  0.500000  0.375000  0.333333 \n",
      "     4  0.250000  0.343750  0.333333  0.333333 \n",
      "\n",
      "The final result is 0.3333333333333333 after 5 function evaluations.\n"
     ]
    }
   ],
   "source": [
    "from scipy import integrate\n",
    "\n",
    "from scipy.special import erf\n",
    "\n",
    "def integ_romberg(f, a, b, epsilon):\n",
    "    integrate.romberg(f, a, b, tol=epsilon, show=True) #intégration de romberg de f entre a et b avec une tolérence de epsilon\n",
    "                                                        #show permet d'afficher le résultat\n",
    "\n",
    "fonction = lambda x: x*x\n",
    "\n",
    "integ_romberg(fonction, 0, 1, 1e-6)\n"
   ]
  },
  {
   "cell_type": "markdown",
   "metadata": {},
   "source": [
    "Ex 2: Équation d’état de l’eau à partir de la dynamique moléculaire\n",
    "\n",
    "Afin de modéliser les planètes de type Jupiter, Saturne, ou même des exo-planètes très massives (dites « super-Jupiters »), la connaissance de l’équation d’état des composants est nécessaire. Ces équations d’état doivent être valables jusqu’à plusieurs centaines de méga-bar ; autrement dit, celles-ci ne sont en aucun cas accessibles expérimentalement. On peut cependant obtenir une équation d’état numériquement à partir d’une dynamique moléculaire.\n",
    "\n",
    "Le principe est le suivant : on place dans une boite un certain nombre de particules régies par les équations microscopiques (Newton par exemple, ou même par des équations prenant en considération la mécanique quantique) puis on laisse celles-ci évoluer dans la boite ; on calcule à chaque pas de temps l’énergie interne à partir des intéractions électrostatiques et la pression à partir du tenseur des contraintes. On obtient en sortie l’évolution du système pour une densité fixée (par le choix de taille de la boite) et une température fixée (par un algorithme de thermostat que nous ne détaillerons pas ici).\n",
    "\n",
    "On se propose d’analyser quelques fichiers de sortie de tels calculs pour l’équation d’état de l’eau à très haute pression. Les fichiers de sortie sont disponibles ici; leur nom indique les conditions thermodynamiques correspondant au fichier, p.ex. 6000K_30gcc.out pour T=6000\n",
    "K et ρ=30 gcc. Le but est, pour chaque condition température-densité, d’extraire l’évolution de l’énergie et de la pression au cours du temps, puis d’en extraire la valeur moyenne ainsi que les fluctuations. Il arrive souvent que l’état initial choisi pour le système ne corresponde pas à son état d’équilibre, et qu’il faille donc « jeter » les quelques pas de temps en début de simulation qui correspondent à cette relaxation du système. Pour savoir combien de temps prend cette relaxation, il sera utile de tracer l’évolution au cours du temps de la pression et l’énergie pour quelques simulations. Une fois l’équation d’état P(ρ,T) et E(ρ,T) extraite, on pourra tracer le réseau d’isothermes."
   ]
  },
  {
   "cell_type": "code",
   "execution_count": null,
   "metadata": {},
   "outputs": [],
   "source": []
  },
  {
   "cell_type": "markdown",
   "metadata": {},
   "source": [
    "Ex 3: Le problème du voyageur de commerce\n",
    "\n",
    "Le problème du voyageur de commerce est un problème d’optimisation consistant à déterminer le plus court chemin reliant un ensemble de destinations. Il n’existe pas d’algorithme donnant la solution optimale en un temps raisonnable (problème NP-complet), mais l’on peut chercher à déterminer des solutions approchées. On va se placer ici dans le cas d’un livreur devant desservir une seule fois chacune desndestinations d’une ville américaine où les rues sont agencées en réseau carré. \n",
    "\n",
    "On utilise la « distance deManhattan »  entre deux points 𝐴(𝑥𝐴,𝑦𝐴) et 𝐵(𝑥𝐵,𝑦𝐵) : 𝑑(𝐴,𝐵) =|𝑥𝐵−𝑥𝐴|+|𝑦𝐵−𝑦𝐴|.\n",
    "\n",
    "En outre, on se place dans le cas où les coordonnées des destinations sont entières, comprises entre 0 (inclus) et TAILLE = 50 (exclus). Deux destinations peuvent éventuellement avoir les mêmes coordonnées. Les instructions suivantes doivent permettre de définir les classes nécessaires (Ville et Trajet) et de développer un algorithme approché (heuristiques) : l’algorithme du plus proche voisin. \n",
    "\n",
    "Seules la librairie standard et la librairie numpy sont utilisables si nécessaire. Implementer les classes et methodes suivante:\n",
    "\n",
    "\n",
    "Classe Ville:\n",
    "* __init__(): initialisation d’une ville sans destination.\n",
    "* aleatoire(n): création de n destinations aléatoires.\n",
    "* nb_trajet(): retourne le nombre total (entier) de trajets :(𝑛−1)!/2(utilisermath.factorial()).\n",
    "* distance(i, j): retourne la distance (Manhattan) entre les deux destinations de numéro i et j\n",
    "\n",
    "\n",
    "Classe Trajet:\n",
    "* __init__(ville, etapes=None): initialisation sur une ville. Si la liste etapes n’est pas spécifiée, le trajet par défaut est celui suivant les destinations de ville.\n",
    "* longueur(): retourne la longueur totale du trajetbouclé(i.e. revenant à son point de départ).\n",
    "\n",
    "\n",
    "Plus proche voisin:\n",
    "* Ville.plus_proche(i, exclus=[]): retourne la destination la plus proche de la destinationi(au sens de Ville.distance()), hors les destinations de la liste exclus\n",
    "* Ville.trajet_voisins(depart=0): retourne un Trajet déterminé selon l’heuristique des plus proches voisins (i.e. l’étape suivante est la destination la plus proche hors les destinations déjà visitées) en partant de l’étape initiale depart\n",
    "\n",
    "Optimisation:\n",
    "* Proposer un algorithme qui propose une meilleur alternative au \"plus proche voisin\".\n",
    "\n",
    "Interface:\n",
    "* Ville.figure(trajet=None): Afficher le plande la ville et le trajet obtenue (utiliser matplotlib.step()pour des trajets de type « Manhattan »)"
   ]
  },
  {
   "cell_type": "code",
   "execution_count": 7,
   "metadata": {},
   "outputs": [],
   "source": [
    "import math\n",
    "import numpy as N\n",
    "import pytest\n",
    "\n",
    "import matplotlib.pyplot as P\n",
    "\n",
    "N.random.seed(123)\n",
    "TAILLE = 50\n",
    "\n",
    "class Ville(object):\n",
    "\n",
    "    def __init__(self): #Création d'une ville sans destination\n",
    "\n",
    "        self.destinations = N.array([]).reshape(-1, 2)\n",
    "\n",
    "    def aleatoire(self, n=20): #Création de n destinations aléatoires.\n",
    "\n",
    "        self.destinations = N.random.randint(TAILLE, size=(n, 2))\n",
    "\n",
    "    def nb_trajets(self): #Renvoie le nombre total (entier) de trajets: (n-1)!/2(utilisermath.factorial())\n",
    "\n",
    "        ntrajet = len(self.destinations)\n",
    "        if ntrajet > 2:\n",
    "            return int(math.factorial(ntrajet - 1) / 2) #Renvoie le nombre total de trajets\n",
    "        elif ntrajet > 0:  \n",
    "            return 1 #Comme le calcule n'est pas faisable pour 2 destinnation on renvoie directement 1.\n",
    "        else:\n",
    "            return 0\n",
    "\n",
    "    def distance(self, i, j): #retourne la distance (Manhattan) entre les deux destinations de numéro i et j\n",
    "        return N.abs(self.destinations[i] - self.destinations[j]).sum() #réalise 𝑑(I,J) =|𝑥J−𝑥I|+|𝑦J−𝑦I|\n",
    "\n",
    "    \n",
    "class Trajet(object): #Trajet, contient une liste ordonnée des destinations (étapes) d'une Ville.\n",
    "\n",
    "    def __init__(self, ville, etapes=None):\n",
    "        \"\"\"\n",
    "        Initialisation sur une `ville`.  Si `etapes` n'est pas spécifié, le\n",
    "        trajet par défaut est celui suivant les destinations de `ville`.\n",
    "        \"\"\"\n",
    "\n",
    "        assert isinstance(ville, Ville)\n",
    "        self.ville = ville\n",
    "        if etapes is None:                     # Trajet par défaut\n",
    "            self.etapes = N.arange(len(self.ville.destinations))\n",
    "        else:\n",
    "            self.etapes = N.array(etapes)\n",
    "\n",
    "    def __str__(self):\n",
    "\n",
    "        return \"{}-trajet L={}: {}\".format(\n",
    "            len(self.etapes), self.longueur(), self.etapes)\n",
    "\n",
    "    def longueur(self):\n",
    "        \"\"\"\n",
    "        Retourne la longueur totale du trajet *bouclé* (i.e. revenant à son\n",
    "        point de départ).\n",
    "        \"\"\"\n",
    "\n",
    "        l = sum( self.ville.distance(self.etapes[i], self.etapes[i+1])\n",
    "                 for i in range(len(self.etapes)-1) )\n",
    "        l += self.ville.distance(self.etapes[-1], self.etapes[0])\n",
    "\n",
    "        return l\n",
    "\n",
    "    def interversion(self, i, j):\n",
    "        \"\"\"\n",
    "        Retourne un nouveau `Trajet` résultant de l'interversion des 2 étapes\n",
    "        *i* et *j*.\n",
    "        \"\"\"\n",
    "\n",
    "        etapes = self.etapes.copy()\n",
    "        etapes[[i, j]] = etapes[[j, i]]\n",
    "\n",
    "        return Trajet(self.ville, etapes)"
   ]
  }
 ],
 "metadata": {
  "kernelspec": {
   "display_name": "Python 3",
   "language": "python",
   "name": "python3"
  },
  "language_info": {
   "codemirror_mode": {
    "name": "ipython",
    "version": 3
   },
   "file_extension": ".py",
   "mimetype": "text/x-python",
   "name": "python",
   "nbconvert_exporter": "python",
   "pygments_lexer": "ipython3",
   "version": "3.7.0"
  }
 },
 "nbformat": 4,
 "nbformat_minor": 4
}
